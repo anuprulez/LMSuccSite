{
 "cells": [
  {
   "cell_type": "code",
   "execution_count": 1,
   "id": "2eec63e5-bee8-4230-b5cc-bb283adf633d",
   "metadata": {
    "tags": []
   },
   "outputs": [],
   "source": [
    "from Bio import SeqIO\n",
    "import pandas as pd\n",
    "\n",
    "fasta_train_pos = SeqIO.parse(\"../data/train/fasta/positive_sites.fasta\", \"fasta\")\n",
    "fasta_train_neg = SeqIO.parse(\"../data/train/fasta/negative_sites.fasta\", \"fasta\")\n",
    "fasta_test_pos = SeqIO.parse(\"../data/test/fasta/test_positive_sites.fasta\", \"fasta\")\n",
    "fasta_test_neg = SeqIO.parse(\"../data/test/fasta/test_negative_sites.fasta\", \"fasta\")\n",
    "\n",
    "\n",
    "def convert_fasta_df(seqio):\n",
    "    final_ids = list()\n",
    "    final_seqs = list()\n",
    "    for i, fasta in enumerate(seqio):\n",
    "        final_ids.append(fasta.id)\n",
    "        final_seqs.append(fasta.seq)\n",
    "    return pd.DataFrame(zip(final_ids, final_seqs), columns=[\"SeqId\", \"Sequence\"])"
   ]
  },
  {
   "cell_type": "code",
   "execution_count": 2,
   "id": "3943d2e6-cdac-4beb-a914-01941d46f457",
   "metadata": {
    "tags": []
   },
   "outputs": [],
   "source": [
    "df_train_pos = convert_fasta_df(fasta_train_pos)\n",
    "df_train_pos.to_csv(\"../data/train/dataframe/positive_sites.csv\", sep=\",\", index=None)"
   ]
  },
  {
   "cell_type": "code",
   "execution_count": 3,
   "id": "dd948c3f-a0dd-492a-b470-5828ff363128",
   "metadata": {
    "tags": []
   },
   "outputs": [],
   "source": [
    "df_train_neg = convert_fasta_df(fasta_train_neg)\n",
    "df_train_neg.to_csv(\"../data/train/dataframe/negative_sites.csv\", sep=\",\", index=None)"
   ]
  },
  {
   "cell_type": "code",
   "execution_count": 4,
   "id": "911e1ef9-ef63-478e-9b49-276bb42b6306",
   "metadata": {
    "tags": []
   },
   "outputs": [],
   "source": [
    "df_test_pos = convert_fasta_df(fasta_test_pos)\n",
    "df_test_pos.to_csv(\"../data/test/dataframe/positive_sites.csv\", sep=\",\", index=None)"
   ]
  },
  {
   "cell_type": "code",
   "execution_count": 5,
   "id": "3c5bbe30-4ea4-4a1a-bf89-4d2ccec52610",
   "metadata": {
    "tags": []
   },
   "outputs": [],
   "source": [
    "df_test_neg = convert_fasta_df(fasta_test_neg)\n",
    "df_test_neg.to_csv(\"../data/test/dataframe/negative_sites.csv\", sep=\",\", index=None)"
   ]
  },
  {
   "cell_type": "code",
   "execution_count": null,
   "id": "e9d410a2-a26a-4b9e-a576-5fa5dfeb30d6",
   "metadata": {},
   "outputs": [],
   "source": []
  }
 ],
 "metadata": {
  "kernelspec": {
   "display_name": "Python 3 (ipykernel)",
   "language": "python",
   "name": "python3"
  },
  "language_info": {
   "codemirror_mode": {
    "name": "ipython",
    "version": 3
   },
   "file_extension": ".py",
   "mimetype": "text/x-python",
   "name": "python",
   "nbconvert_exporter": "python",
   "pygments_lexer": "ipython3",
   "version": "3.9.7"
  }
 },
 "nbformat": 4,
 "nbformat_minor": 5
}
